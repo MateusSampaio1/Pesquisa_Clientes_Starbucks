{
 "cells": [
  {
   "cell_type": "code",
   "execution_count": 1,
   "id": "82de747d",
   "metadata": {},
   "outputs": [],
   "source": [
    "import pandas as pd"
   ]
  },
  {
   "cell_type": "code",
   "execution_count": 2,
   "id": "fe02b8ed",
   "metadata": {},
   "outputs": [],
   "source": [
    "pd.set_option('display.max_columns', 22)"
   ]
  },
  {
   "cell_type": "code",
   "execution_count": 3,
   "id": "7ec673df",
   "metadata": {},
   "outputs": [
    {
     "data": {
      "text/html": [
       "<div>\n",
       "<style scoped>\n",
       "    .dataframe tbody tr th:only-of-type {\n",
       "        vertical-align: middle;\n",
       "    }\n",
       "\n",
       "    .dataframe tbody tr th {\n",
       "        vertical-align: top;\n",
       "    }\n",
       "\n",
       "    .dataframe thead th {\n",
       "        text-align: right;\n",
       "    }\n",
       "</style>\n",
       "<table border=\"1\" class=\"dataframe\">\n",
       "  <thead>\n",
       "    <tr style=\"text-align: right;\">\n",
       "      <th></th>\n",
       "      <th>Timestamp</th>\n",
       "      <th>1. Your Gender</th>\n",
       "      <th>2. Your Age</th>\n",
       "      <th>3. Are you currently....?</th>\n",
       "      <th>4. What is your annual income?</th>\n",
       "      <th>5. How often do you visit Starbucks?</th>\n",
       "      <th>6. How do you usually enjoy Starbucks?</th>\n",
       "      <th>7. How much time do you normally  spend during your visit?</th>\n",
       "      <th>8. The nearest Starbucks's outlet to you is...?</th>\n",
       "      <th>9. Do you have Starbucks membership card?</th>\n",
       "      <th>10. What do you most frequently purchase at Starbucks?</th>\n",
       "      <th>11. On average, how much would you spend at Starbucks per visit?</th>\n",
       "      <th>12. How would you rate the quality of Starbucks compared to other brands (Coffee Bean, Old Town White Coffee..) to be:</th>\n",
       "      <th>13. How would you rate the price range at Starbucks?</th>\n",
       "      <th>14. How important are sales and promotions in your purchase decision?</th>\n",
       "      <th>15. How would you rate the ambiance at Starbucks? (lighting, music, etc...)</th>\n",
       "      <th>16. You rate the WiFi quality at Starbucks as..</th>\n",
       "      <th>17. How would you rate the service at Starbucks? (Promptness, friendliness, etc..)</th>\n",
       "      <th>18. How likely you will choose Starbucks for doing business meetings or hangout with friends?</th>\n",
       "      <th>19. How do you come to hear of promotions at Starbucks? Check all that apply.</th>\n",
       "      <th>20. Will you continue buying at Starbucks?</th>\n",
       "    </tr>\n",
       "  </thead>\n",
       "  <tbody>\n",
       "    <tr>\n",
       "      <th>0</th>\n",
       "      <td>2019/10/01 12:38:43 PM GMT+8</td>\n",
       "      <td>Female</td>\n",
       "      <td>From 20 to 29</td>\n",
       "      <td>Student</td>\n",
       "      <td>Less than RM25,000</td>\n",
       "      <td>Rarely</td>\n",
       "      <td>Dine in</td>\n",
       "      <td>Between 30 minutes to 1 hour</td>\n",
       "      <td>within 1km</td>\n",
       "      <td>Yes</td>\n",
       "      <td>Coffee</td>\n",
       "      <td>Less than RM20</td>\n",
       "      <td>4</td>\n",
       "      <td>3</td>\n",
       "      <td>5</td>\n",
       "      <td>5</td>\n",
       "      <td>4</td>\n",
       "      <td>4</td>\n",
       "      <td>3</td>\n",
       "      <td>Starbucks Website/Apps;Social Media;Emails;Dea...</td>\n",
       "      <td>Yes</td>\n",
       "    </tr>\n",
       "    <tr>\n",
       "      <th>1</th>\n",
       "      <td>2019/10/01 12:38:54 PM GMT+8</td>\n",
       "      <td>Female</td>\n",
       "      <td>From 20 to 29</td>\n",
       "      <td>Student</td>\n",
       "      <td>Less than RM25,000</td>\n",
       "      <td>Rarely</td>\n",
       "      <td>Take away</td>\n",
       "      <td>Below 30 minutes</td>\n",
       "      <td>1km - 3km</td>\n",
       "      <td>Yes</td>\n",
       "      <td>Cold drinks;Pastries</td>\n",
       "      <td>Less than RM20</td>\n",
       "      <td>4</td>\n",
       "      <td>3</td>\n",
       "      <td>4</td>\n",
       "      <td>4</td>\n",
       "      <td>4</td>\n",
       "      <td>5</td>\n",
       "      <td>2</td>\n",
       "      <td>Social Media;In Store displays</td>\n",
       "      <td>Yes</td>\n",
       "    </tr>\n",
       "    <tr>\n",
       "      <th>2</th>\n",
       "      <td>2019/10/01 12:38:56 PM GMT+8</td>\n",
       "      <td>Male</td>\n",
       "      <td>From 20 to 29</td>\n",
       "      <td>Employed</td>\n",
       "      <td>Less than RM25,000</td>\n",
       "      <td>Monthly</td>\n",
       "      <td>Dine in</td>\n",
       "      <td>Between 30 minutes to 1 hour</td>\n",
       "      <td>more than 3km</td>\n",
       "      <td>Yes</td>\n",
       "      <td>Coffee</td>\n",
       "      <td>Less than RM20</td>\n",
       "      <td>4</td>\n",
       "      <td>3</td>\n",
       "      <td>4</td>\n",
       "      <td>4</td>\n",
       "      <td>4</td>\n",
       "      <td>4</td>\n",
       "      <td>3</td>\n",
       "      <td>In Store displays;Billboards</td>\n",
       "      <td>Yes</td>\n",
       "    </tr>\n",
       "    <tr>\n",
       "      <th>3</th>\n",
       "      <td>2019/10/01 12:39:08 PM GMT+8</td>\n",
       "      <td>Female</td>\n",
       "      <td>From 20 to 29</td>\n",
       "      <td>Student</td>\n",
       "      <td>Less than RM25,000</td>\n",
       "      <td>Rarely</td>\n",
       "      <td>Take away</td>\n",
       "      <td>Below 30 minutes</td>\n",
       "      <td>more than 3km</td>\n",
       "      <td>No</td>\n",
       "      <td>Coffee</td>\n",
       "      <td>Less than RM20</td>\n",
       "      <td>2</td>\n",
       "      <td>1</td>\n",
       "      <td>4</td>\n",
       "      <td>3</td>\n",
       "      <td>3</td>\n",
       "      <td>3</td>\n",
       "      <td>3</td>\n",
       "      <td>Through friends and word of mouth</td>\n",
       "      <td>No</td>\n",
       "    </tr>\n",
       "    <tr>\n",
       "      <th>4</th>\n",
       "      <td>2019/10/01 12:39:20 PM GMT+8</td>\n",
       "      <td>Male</td>\n",
       "      <td>From 20 to 29</td>\n",
       "      <td>Student</td>\n",
       "      <td>Less than RM25,000</td>\n",
       "      <td>Monthly</td>\n",
       "      <td>Take away</td>\n",
       "      <td>Between 30 minutes to 1 hour</td>\n",
       "      <td>1km - 3km</td>\n",
       "      <td>No</td>\n",
       "      <td>Coffee;Sandwiches</td>\n",
       "      <td>Around RM20 - RM40</td>\n",
       "      <td>3</td>\n",
       "      <td>3</td>\n",
       "      <td>4</td>\n",
       "      <td>2</td>\n",
       "      <td>2</td>\n",
       "      <td>3</td>\n",
       "      <td>3</td>\n",
       "      <td>Starbucks Website/Apps;Social Media</td>\n",
       "      <td>Yes</td>\n",
       "    </tr>\n",
       "    <tr>\n",
       "      <th>...</th>\n",
       "      <td>...</td>\n",
       "      <td>...</td>\n",
       "      <td>...</td>\n",
       "      <td>...</td>\n",
       "      <td>...</td>\n",
       "      <td>...</td>\n",
       "      <td>...</td>\n",
       "      <td>...</td>\n",
       "      <td>...</td>\n",
       "      <td>...</td>\n",
       "      <td>...</td>\n",
       "      <td>...</td>\n",
       "      <td>...</td>\n",
       "      <td>...</td>\n",
       "      <td>...</td>\n",
       "      <td>...</td>\n",
       "      <td>...</td>\n",
       "      <td>...</td>\n",
       "      <td>...</td>\n",
       "      <td>...</td>\n",
       "      <td>...</td>\n",
       "    </tr>\n",
       "    <tr>\n",
       "      <th>117</th>\n",
       "      <td>2019/10/04 12:24:26 AM GMT+8</td>\n",
       "      <td>Male</td>\n",
       "      <td>40 and above</td>\n",
       "      <td>Self-employed</td>\n",
       "      <td>RM25,000 - RM50,000</td>\n",
       "      <td>Monthly</td>\n",
       "      <td>Dine in</td>\n",
       "      <td>Between 1 hour to 2 hours</td>\n",
       "      <td>1km - 3km</td>\n",
       "      <td>Yes</td>\n",
       "      <td>Coffee</td>\n",
       "      <td>Around RM20 - RM40</td>\n",
       "      <td>3</td>\n",
       "      <td>3</td>\n",
       "      <td>5</td>\n",
       "      <td>3</td>\n",
       "      <td>2</td>\n",
       "      <td>4</td>\n",
       "      <td>4</td>\n",
       "      <td>Starbucks Website/Apps;Social Media</td>\n",
       "      <td>Yes</td>\n",
       "    </tr>\n",
       "    <tr>\n",
       "      <th>118</th>\n",
       "      <td>2019/10/04 9:30:09 AM GMT+8</td>\n",
       "      <td>Male</td>\n",
       "      <td>From 20 to 29</td>\n",
       "      <td>Employed</td>\n",
       "      <td>Less than RM25,000</td>\n",
       "      <td>Monthly</td>\n",
       "      <td>Dine in</td>\n",
       "      <td>Between 1 hour to 2 hours</td>\n",
       "      <td>1km - 3km</td>\n",
       "      <td>Yes</td>\n",
       "      <td>Coffee;Cold drinks;Juices;Pastries;Sandwiches</td>\n",
       "      <td>More than RM40</td>\n",
       "      <td>5</td>\n",
       "      <td>5</td>\n",
       "      <td>5</td>\n",
       "      <td>5</td>\n",
       "      <td>5</td>\n",
       "      <td>5</td>\n",
       "      <td>5</td>\n",
       "      <td>Starbucks Website/Apps;Social Media;Emails;Dea...</td>\n",
       "      <td>Yes</td>\n",
       "    </tr>\n",
       "    <tr>\n",
       "      <th>119</th>\n",
       "      <td>2019/10/04 1:46:07 PM GMT+8</td>\n",
       "      <td>Male</td>\n",
       "      <td>From 20 to 29</td>\n",
       "      <td>Student</td>\n",
       "      <td>Less than RM25,000</td>\n",
       "      <td>Rarely</td>\n",
       "      <td>Dine in</td>\n",
       "      <td>Between 30 minutes to 1 hour</td>\n",
       "      <td>1km - 3km</td>\n",
       "      <td>No</td>\n",
       "      <td>Coffee;Cold drinks</td>\n",
       "      <td>Less than RM20</td>\n",
       "      <td>3</td>\n",
       "      <td>2</td>\n",
       "      <td>4</td>\n",
       "      <td>3</td>\n",
       "      <td>3</td>\n",
       "      <td>3</td>\n",
       "      <td>4</td>\n",
       "      <td>Social Media;Through friends and word of mouth...</td>\n",
       "      <td>No</td>\n",
       "    </tr>\n",
       "    <tr>\n",
       "      <th>120</th>\n",
       "      <td>2019/10/05 11:01:14 AM GMT+8</td>\n",
       "      <td>Female</td>\n",
       "      <td>From 20 to 29</td>\n",
       "      <td>Employed</td>\n",
       "      <td>Less than RM25,000</td>\n",
       "      <td>Rarely</td>\n",
       "      <td>Take away</td>\n",
       "      <td>Below 30 minutes</td>\n",
       "      <td>within 1km</td>\n",
       "      <td>No</td>\n",
       "      <td>Coffee</td>\n",
       "      <td>Less than RM20</td>\n",
       "      <td>4</td>\n",
       "      <td>4</td>\n",
       "      <td>4</td>\n",
       "      <td>4</td>\n",
       "      <td>4</td>\n",
       "      <td>4</td>\n",
       "      <td>4</td>\n",
       "      <td>Social Media;Through friends and word of mouth...</td>\n",
       "      <td>Yes</td>\n",
       "    </tr>\n",
       "    <tr>\n",
       "      <th>121</th>\n",
       "      <td>2019/10/05 4:57:22 PM GMT+8</td>\n",
       "      <td>Male</td>\n",
       "      <td>From 20 to 29</td>\n",
       "      <td>Employed</td>\n",
       "      <td>RM50,000 - RM100,000</td>\n",
       "      <td>Rarely</td>\n",
       "      <td>Dine in</td>\n",
       "      <td>Between 30 minutes to 1 hour</td>\n",
       "      <td>1km - 3km</td>\n",
       "      <td>No</td>\n",
       "      <td>Coffee</td>\n",
       "      <td>Less than RM20</td>\n",
       "      <td>1</td>\n",
       "      <td>1</td>\n",
       "      <td>5</td>\n",
       "      <td>4</td>\n",
       "      <td>3</td>\n",
       "      <td>3</td>\n",
       "      <td>2</td>\n",
       "      <td>In Store displays</td>\n",
       "      <td>No</td>\n",
       "    </tr>\n",
       "  </tbody>\n",
       "</table>\n",
       "<p>122 rows × 21 columns</p>\n",
       "</div>"
      ],
      "text/plain": [
       "                        Timestamp 1. Your Gender    2. Your Age  \\\n",
       "0    2019/10/01 12:38:43 PM GMT+8         Female  From 20 to 29   \n",
       "1    2019/10/01 12:38:54 PM GMT+8         Female  From 20 to 29   \n",
       "2    2019/10/01 12:38:56 PM GMT+8           Male  From 20 to 29   \n",
       "3    2019/10/01 12:39:08 PM GMT+8         Female  From 20 to 29   \n",
       "4    2019/10/01 12:39:20 PM GMT+8           Male  From 20 to 29   \n",
       "..                            ...            ...            ...   \n",
       "117  2019/10/04 12:24:26 AM GMT+8           Male   40 and above   \n",
       "118   2019/10/04 9:30:09 AM GMT+8           Male  From 20 to 29   \n",
       "119   2019/10/04 1:46:07 PM GMT+8           Male  From 20 to 29   \n",
       "120  2019/10/05 11:01:14 AM GMT+8         Female  From 20 to 29   \n",
       "121   2019/10/05 4:57:22 PM GMT+8           Male  From 20 to 29   \n",
       "\n",
       "    3. Are you currently....? 4. What is your annual income?  \\\n",
       "0                     Student             Less than RM25,000   \n",
       "1                     Student             Less than RM25,000   \n",
       "2                    Employed             Less than RM25,000   \n",
       "3                     Student             Less than RM25,000   \n",
       "4                     Student             Less than RM25,000   \n",
       "..                        ...                            ...   \n",
       "117             Self-employed            RM25,000 - RM50,000   \n",
       "118                  Employed             Less than RM25,000   \n",
       "119                   Student             Less than RM25,000   \n",
       "120                  Employed             Less than RM25,000   \n",
       "121                  Employed           RM50,000 - RM100,000   \n",
       "\n",
       "    5. How often do you visit Starbucks?  \\\n",
       "0                                 Rarely   \n",
       "1                                 Rarely   \n",
       "2                                Monthly   \n",
       "3                                 Rarely   \n",
       "4                                Monthly   \n",
       "..                                   ...   \n",
       "117                              Monthly   \n",
       "118                              Monthly   \n",
       "119                               Rarely   \n",
       "120                               Rarely   \n",
       "121                               Rarely   \n",
       "\n",
       "    6. How do you usually enjoy Starbucks?  \\\n",
       "0                                  Dine in   \n",
       "1                                Take away   \n",
       "2                                  Dine in   \n",
       "3                                Take away   \n",
       "4                                Take away   \n",
       "..                                     ...   \n",
       "117                                Dine in   \n",
       "118                                Dine in   \n",
       "119                                Dine in   \n",
       "120                              Take away   \n",
       "121                                Dine in   \n",
       "\n",
       "    7. How much time do you normally  spend during your visit?  \\\n",
       "0                         Between 30 minutes to 1 hour           \n",
       "1                                     Below 30 minutes           \n",
       "2                         Between 30 minutes to 1 hour           \n",
       "3                                     Below 30 minutes           \n",
       "4                         Between 30 minutes to 1 hour           \n",
       "..                                                 ...           \n",
       "117                          Between 1 hour to 2 hours           \n",
       "118                          Between 1 hour to 2 hours           \n",
       "119                       Between 30 minutes to 1 hour           \n",
       "120                                   Below 30 minutes           \n",
       "121                       Between 30 minutes to 1 hour           \n",
       "\n",
       "    8. The nearest Starbucks's outlet to you is...?  \\\n",
       "0                                        within 1km   \n",
       "1                                         1km - 3km   \n",
       "2                                     more than 3km   \n",
       "3                                     more than 3km   \n",
       "4                                         1km - 3km   \n",
       "..                                              ...   \n",
       "117                                       1km - 3km   \n",
       "118                                       1km - 3km   \n",
       "119                                       1km - 3km   \n",
       "120                                      within 1km   \n",
       "121                                       1km - 3km   \n",
       "\n",
       "    9. Do you have Starbucks membership card?  \\\n",
       "0                                         Yes   \n",
       "1                                         Yes   \n",
       "2                                         Yes   \n",
       "3                                          No   \n",
       "4                                          No   \n",
       "..                                        ...   \n",
       "117                                       Yes   \n",
       "118                                       Yes   \n",
       "119                                        No   \n",
       "120                                        No   \n",
       "121                                        No   \n",
       "\n",
       "    10. What do you most frequently purchase at Starbucks?  \\\n",
       "0                                               Coffee       \n",
       "1                                 Cold drinks;Pastries       \n",
       "2                                               Coffee       \n",
       "3                                               Coffee       \n",
       "4                                    Coffee;Sandwiches       \n",
       "..                                                 ...       \n",
       "117                                             Coffee       \n",
       "118      Coffee;Cold drinks;Juices;Pastries;Sandwiches       \n",
       "119                                 Coffee;Cold drinks       \n",
       "120                                             Coffee       \n",
       "121                                             Coffee       \n",
       "\n",
       "    11. On average, how much would you spend at Starbucks per visit?  \\\n",
       "0                                       Less than RM20                 \n",
       "1                                       Less than RM20                 \n",
       "2                                       Less than RM20                 \n",
       "3                                       Less than RM20                 \n",
       "4                                   Around RM20 - RM40                 \n",
       "..                                                 ...                 \n",
       "117                                 Around RM20 - RM40                 \n",
       "118                                     More than RM40                 \n",
       "119                                     Less than RM20                 \n",
       "120                                     Less than RM20                 \n",
       "121                                     Less than RM20                 \n",
       "\n",
       "     12. How would you rate the quality of Starbucks compared to other brands (Coffee Bean, Old Town White Coffee..) to be:  \\\n",
       "0                                                    4                                                                        \n",
       "1                                                    4                                                                        \n",
       "2                                                    4                                                                        \n",
       "3                                                    2                                                                        \n",
       "4                                                    3                                                                        \n",
       "..                                                 ...                                                                        \n",
       "117                                                  3                                                                        \n",
       "118                                                  5                                                                        \n",
       "119                                                  3                                                                        \n",
       "120                                                  4                                                                        \n",
       "121                                                  1                                                                        \n",
       "\n",
       "     13. How would you rate the price range at Starbucks?  \\\n",
       "0                                                    3      \n",
       "1                                                    3      \n",
       "2                                                    3      \n",
       "3                                                    1      \n",
       "4                                                    3      \n",
       "..                                                 ...      \n",
       "117                                                  3      \n",
       "118                                                  5      \n",
       "119                                                  2      \n",
       "120                                                  4      \n",
       "121                                                  1      \n",
       "\n",
       "     14. How important are sales and promotions in your purchase decision?  \\\n",
       "0                                                    5                       \n",
       "1                                                    4                       \n",
       "2                                                    4                       \n",
       "3                                                    4                       \n",
       "4                                                    4                       \n",
       "..                                                 ...                       \n",
       "117                                                  5                       \n",
       "118                                                  5                       \n",
       "119                                                  4                       \n",
       "120                                                  4                       \n",
       "121                                                  5                       \n",
       "\n",
       "     15. How would you rate the ambiance at Starbucks? (lighting, music, etc...)  \\\n",
       "0                                                    5                             \n",
       "1                                                    4                             \n",
       "2                                                    4                             \n",
       "3                                                    3                             \n",
       "4                                                    2                             \n",
       "..                                                 ...                             \n",
       "117                                                  3                             \n",
       "118                                                  5                             \n",
       "119                                                  3                             \n",
       "120                                                  4                             \n",
       "121                                                  4                             \n",
       "\n",
       "     16. You rate the WiFi quality at Starbucks as..  \\\n",
       "0                                                  4   \n",
       "1                                                  4   \n",
       "2                                                  4   \n",
       "3                                                  3   \n",
       "4                                                  2   \n",
       "..                                               ...   \n",
       "117                                                2   \n",
       "118                                                5   \n",
       "119                                                3   \n",
       "120                                                4   \n",
       "121                                                3   \n",
       "\n",
       "     17. How would you rate the service at Starbucks? (Promptness, friendliness, etc..)  \\\n",
       "0                                                    4                                    \n",
       "1                                                    5                                    \n",
       "2                                                    4                                    \n",
       "3                                                    3                                    \n",
       "4                                                    3                                    \n",
       "..                                                 ...                                    \n",
       "117                                                  4                                    \n",
       "118                                                  5                                    \n",
       "119                                                  3                                    \n",
       "120                                                  4                                    \n",
       "121                                                  3                                    \n",
       "\n",
       "     18. How likely you will choose Starbucks for doing business meetings or hangout with friends?  \\\n",
       "0                                                    3                                               \n",
       "1                                                    2                                               \n",
       "2                                                    3                                               \n",
       "3                                                    3                                               \n",
       "4                                                    3                                               \n",
       "..                                                 ...                                               \n",
       "117                                                  4                                               \n",
       "118                                                  5                                               \n",
       "119                                                  4                                               \n",
       "120                                                  4                                               \n",
       "121                                                  2                                               \n",
       "\n",
       "    19. How do you come to hear of promotions at Starbucks? Check all that apply.  \\\n",
       "0    Starbucks Website/Apps;Social Media;Emails;Dea...                              \n",
       "1                       Social Media;In Store displays                              \n",
       "2                         In Store displays;Billboards                              \n",
       "3                    Through friends and word of mouth                              \n",
       "4                  Starbucks Website/Apps;Social Media                              \n",
       "..                                                 ...                              \n",
       "117                Starbucks Website/Apps;Social Media                              \n",
       "118  Starbucks Website/Apps;Social Media;Emails;Dea...                              \n",
       "119  Social Media;Through friends and word of mouth...                              \n",
       "120  Social Media;Through friends and word of mouth...                              \n",
       "121                                  In Store displays                              \n",
       "\n",
       "    20. Will you continue buying at Starbucks?  \n",
       "0                                          Yes  \n",
       "1                                          Yes  \n",
       "2                                          Yes  \n",
       "3                                           No  \n",
       "4                                          Yes  \n",
       "..                                         ...  \n",
       "117                                        Yes  \n",
       "118                                        Yes  \n",
       "119                                         No  \n",
       "120                                        Yes  \n",
       "121                                         No  \n",
       "\n",
       "[122 rows x 21 columns]"
      ]
     },
     "execution_count": 3,
     "metadata": {},
     "output_type": "execute_result"
    }
   ],
   "source": [
    "dados = pd.read_csv('../Dados/Starbucks_satisfactory_survey.csv')\n",
    "dados"
   ]
  },
  {
   "cell_type": "code",
   "execution_count": 4,
   "id": "6ebd0c3c",
   "metadata": {},
   "outputs": [
    {
     "data": {
      "text/plain": [
       "Index(['Timestamp', '1. Your Gender', '2. Your Age',\n",
       "       '3. Are you currently....?', '4. What is your annual income?',\n",
       "       '5. How often do you visit Starbucks?',\n",
       "       '6. How do you usually enjoy Starbucks?',\n",
       "       '7. How much time do you normally  spend during your visit?',\n",
       "       '8. The nearest Starbucks's outlet to you is...?',\n",
       "       '9. Do you have Starbucks membership card?',\n",
       "       '10. What do you most frequently purchase at Starbucks?',\n",
       "       '11. On average, how much would you spend at Starbucks per visit?',\n",
       "       '12. How would you rate the quality of Starbucks compared to other brands (Coffee Bean, Old Town White Coffee..) to be:',\n",
       "       '13. How would you rate the price range at Starbucks?',\n",
       "       '14. How important are sales and promotions in your purchase decision?',\n",
       "       '15. How would you rate the ambiance at Starbucks? (lighting, music, etc...)',\n",
       "       '16. You rate the WiFi quality at Starbucks as..',\n",
       "       '17. How would you rate the service at Starbucks? (Promptness, friendliness, etc..)',\n",
       "       '18. How likely you will choose Starbucks for doing business meetings or hangout with friends?',\n",
       "       '19. How do you come to hear of promotions at Starbucks? Check all that apply.',\n",
       "       '20. Will you continue buying at Starbucks?'],\n",
       "      dtype='object')"
      ]
     },
     "execution_count": 4,
     "metadata": {},
     "output_type": "execute_result"
    }
   ],
   "source": [
    "dados.columns"
   ]
  },
  {
   "cell_type": "code",
   "execution_count": 5,
   "id": "e31b5d17",
   "metadata": {},
   "outputs": [
    {
     "data": {
      "text/plain": [
       "array(['Female', 'Male'], dtype=object)"
      ]
     },
     "execution_count": 5,
     "metadata": {},
     "output_type": "execute_result"
    }
   ],
   "source": [
    "dados['1. Your Gender'].unique() # Trocar p/ Genero"
   ]
  },
  {
   "cell_type": "code",
   "execution_count": 6,
   "id": "2a122c4b",
   "metadata": {},
   "outputs": [
    {
     "data": {
      "text/plain": [
       "array(['From 20 to 29', 'From 30 to 39', '40 and above', 'Below 20'],\n",
       "      dtype=object)"
      ]
     },
     "execution_count": 6,
     "metadata": {},
     "output_type": "execute_result"
    }
   ],
   "source": [
    "dados['2. Your Age'].unique() #classes com base nos intervalos "
   ]
  },
  {
   "cell_type": "code",
   "execution_count": 7,
   "id": "cd36bcd5",
   "metadata": {},
   "outputs": [
    {
     "data": {
      "text/plain": [
       "array(['Student', 'Employed', 'Self-employed', 'Housewife'], dtype=object)"
      ]
     },
     "execution_count": 7,
     "metadata": {},
     "output_type": "execute_result"
    }
   ],
   "source": [
    "dados['3. Are you currently....?'].unique()"
   ]
  },
  {
   "cell_type": "code",
   "execution_count": 8,
   "id": "c0abc952",
   "metadata": {},
   "outputs": [
    {
     "data": {
      "text/plain": [
       "array(['Less than RM25,000', 'RM50,000 - RM100,000',\n",
       "       'RM25,000 - RM50,000', 'RM100,000 - RM150,000',\n",
       "       'More than RM150,000'], dtype=object)"
      ]
     },
     "execution_count": 8,
     "metadata": {},
     "output_type": "execute_result"
    }
   ],
   "source": [
    "dados['4. What is your annual income?'].unique() #classes com base nos intervalos"
   ]
  },
  {
   "cell_type": "code",
   "execution_count": 9,
   "id": "d4b94dec",
   "metadata": {},
   "outputs": [
    {
     "data": {
      "text/plain": [
       "array(['Rarely', 'Monthly', 'Weekly', 'Never', 'Daily'], dtype=object)"
      ]
     },
     "execution_count": 9,
     "metadata": {},
     "output_type": "execute_result"
    }
   ],
   "source": [
    "dados['5. How often do you visit Starbucks?'].unique() #Frequência de visita"
   ]
  },
  {
   "cell_type": "code",
   "execution_count": 10,
   "id": "4b2e128b",
   "metadata": {},
   "outputs": [
    {
     "data": {
      "text/plain": [
       "array(['Dine in', 'Take away', 'Drive-thru', 'never', 'Never buy', nan,\n",
       "       'I dont like coffee', 'Never', 'Never '], dtype=object)"
      ]
     },
     "execution_count": 10,
     "metadata": {},
     "output_type": "execute_result"
    }
   ],
   "source": [
    "dados['6. How do you usually enjoy Starbucks?'].unique()"
   ]
  },
  {
   "cell_type": "code",
   "execution_count": 11,
   "id": "48db2b52",
   "metadata": {},
   "outputs": [
    {
     "data": {
      "text/plain": [
       "Take away             49\n",
       "Dine in               46\n",
       "Drive-thru            20\n",
       "never                  2\n",
       "Never buy              1\n",
       "NaN                    1\n",
       "I dont like coffee     1\n",
       "Never                  1\n",
       "Never                  1\n",
       "Name: 6. How do you usually enjoy Starbucks?, dtype: int64"
      ]
     },
     "execution_count": 11,
     "metadata": {},
     "output_type": "execute_result"
    }
   ],
   "source": [
    "# Visualizando a quantidade de informações nulas\n",
    "dados['6. How do you usually enjoy Starbucks?'].value_counts(dropna=False)"
   ]
  },
  {
   "cell_type": "code",
   "execution_count": 12,
   "id": "bbbee840",
   "metadata": {},
   "outputs": [
    {
     "data": {
      "text/plain": [
       "array(['Between 30 minutes to 1 hour', 'Below 30 minutes',\n",
       "       'More than 3 hours', 'Between 1 hour to 2 hours',\n",
       "       'Between 2 hours to 3 hours'], dtype=object)"
      ]
     },
     "execution_count": 12,
     "metadata": {},
     "output_type": "execute_result"
    }
   ],
   "source": [
    "dados['7. How much time do you normally  spend during your visit?'].unique()"
   ]
  },
  {
   "cell_type": "code",
   "execution_count": 13,
   "id": "83da40d5",
   "metadata": {},
   "outputs": [
    {
     "data": {
      "text/plain": [
       "array(['within 1km', '1km - 3km', 'more than 3km'], dtype=object)"
      ]
     },
     "execution_count": 13,
     "metadata": {},
     "output_type": "execute_result"
    }
   ],
   "source": [
    "dados[\"8. The nearest Starbucks's outlet to you is...?\"].unique()"
   ]
  },
  {
   "cell_type": "code",
   "execution_count": 14,
   "id": "a73622bd",
   "metadata": {},
   "outputs": [
    {
     "data": {
      "text/plain": [
       "array(['Yes', 'No'], dtype=object)"
      ]
     },
     "execution_count": 14,
     "metadata": {},
     "output_type": "execute_result"
    }
   ],
   "source": [
    "dados['9. Do you have Starbucks membership card?'].unique()"
   ]
  },
  {
   "cell_type": "code",
   "execution_count": 15,
   "id": "8126ebaf",
   "metadata": {},
   "outputs": [
    {
     "data": {
      "text/plain": [
       "array(['Coffee', 'Cold drinks;Pastries', 'Coffee;Sandwiches',\n",
       "       'Cold drinks', 'Coffee;Cold drinks',\n",
       "       'Cold drinks;Pastries;Sandwiches',\n",
       "       'Coffee;Juices;Pastries;Sandwiches', 'Coffee;Pastries;Sandwiches',\n",
       "       'Coffee;Pastries', 'Cold drinks;Juices;Pastries',\n",
       "       'Coffee;Cold drinks;Pastries;Sandwiches', 'Never', 'Never buy any',\n",
       "       'Jaws chip ', 'cake ', 'Pastries', 'Cold drinks;Never', 'never',\n",
       "       'Nothing ', 'Coffee;Cold drinks;Juices;Pastries;Sandwiches'],\n",
       "      dtype=object)"
      ]
     },
     "execution_count": 15,
     "metadata": {},
     "output_type": "execute_result"
    }
   ],
   "source": [
    "dados['10. What do you most frequently purchase at Starbucks?'].unique()"
   ]
  },
  {
   "cell_type": "code",
   "execution_count": 16,
   "id": "ddb4bd2d",
   "metadata": {},
   "outputs": [
    {
     "data": {
      "text/plain": [
       "Coffee                                           65\n",
       "Cold drinks                                      25\n",
       "Coffee;Cold drinks                                6\n",
       "Coffee;Pastries                                   6\n",
       "Coffee;Sandwiches                                 3\n",
       "Cold drinks;Juices;Pastries                       2\n",
       "Pastries                                          2\n",
       "Jaws chip                                         1\n",
       "Nothing                                           1\n",
       "never                                             1\n",
       "Cold drinks;Never                                 1\n",
       "cake                                              1\n",
       "Coffee;Cold drinks;Pastries;Sandwiches            1\n",
       "Never buy any                                     1\n",
       "Never                                             1\n",
       "Cold drinks;Pastries                              1\n",
       "Coffee;Pastries;Sandwiches                        1\n",
       "Coffee;Juices;Pastries;Sandwiches                 1\n",
       "Cold drinks;Pastries;Sandwiches                   1\n",
       "Coffee;Cold drinks;Juices;Pastries;Sandwiches     1\n",
       "Name: 10. What do you most frequently purchase at Starbucks?, dtype: int64"
      ]
     },
     "execution_count": 16,
     "metadata": {},
     "output_type": "execute_result"
    }
   ],
   "source": [
    "dados['10. What do you most frequently purchase at Starbucks?'].value_counts()"
   ]
  },
  {
   "cell_type": "code",
   "execution_count": 17,
   "id": "53105b48",
   "metadata": {},
   "outputs": [
    {
     "data": {
      "text/plain": [
       "array(['Less than RM20', 'Around RM20 - RM40', 'More than RM40', 'Zero'],\n",
       "      dtype=object)"
      ]
     },
     "execution_count": 17,
     "metadata": {},
     "output_type": "execute_result"
    }
   ],
   "source": [
    "dados['11. On average, how much would you spend at Starbucks per visit?'].unique()"
   ]
  },
  {
   "cell_type": "code",
   "execution_count": 18,
   "id": "43a65f17",
   "metadata": {},
   "outputs": [
    {
     "data": {
      "text/plain": [
       "array([4, 2, 3, 5, 1], dtype=int64)"
      ]
     },
     "execution_count": 18,
     "metadata": {},
     "output_type": "execute_result"
    }
   ],
   "source": [
    "dados['12. How would you rate the quality of Starbucks compared to other brands (Coffee Bean, Old Town White Coffee..) to be:'].unique()"
   ]
  },
  {
   "cell_type": "code",
   "execution_count": 19,
   "id": "36b483de",
   "metadata": {},
   "outputs": [
    {
     "data": {
      "text/plain": [
       "array([3, 1, 5, 2, 4], dtype=int64)"
      ]
     },
     "execution_count": 19,
     "metadata": {},
     "output_type": "execute_result"
    }
   ],
   "source": [
    "dados['13. How would you rate the price range at Starbucks?'].unique()"
   ]
  },
  {
   "cell_type": "code",
   "execution_count": 20,
   "id": "ab8f02ff",
   "metadata": {},
   "outputs": [
    {
     "data": {
      "text/plain": [
       "array([5, 4, 3, 2, 1], dtype=int64)"
      ]
     },
     "execution_count": 20,
     "metadata": {},
     "output_type": "execute_result"
    }
   ],
   "source": [
    "dados['14. How important are sales and promotions in your purchase decision?'].unique()"
   ]
  },
  {
   "cell_type": "code",
   "execution_count": 21,
   "id": "834a66ce",
   "metadata": {},
   "outputs": [
    {
     "data": {
      "text/plain": [
       "array([5, 4, 3, 2, 1], dtype=int64)"
      ]
     },
     "execution_count": 21,
     "metadata": {},
     "output_type": "execute_result"
    }
   ],
   "source": [
    "dados['15. How would you rate the ambiance at Starbucks? (lighting, music, etc...)'].unique()"
   ]
  },
  {
   "cell_type": "code",
   "execution_count": 22,
   "id": "446908d3",
   "metadata": {},
   "outputs": [
    {
     "data": {
      "text/plain": [
       "array([4, 3, 2, 5, 1], dtype=int64)"
      ]
     },
     "execution_count": 22,
     "metadata": {},
     "output_type": "execute_result"
    }
   ],
   "source": [
    "dados['16. You rate the WiFi quality at Starbucks as..'].unique()"
   ]
  },
  {
   "cell_type": "code",
   "execution_count": 23,
   "id": "cddcf4d3",
   "metadata": {},
   "outputs": [
    {
     "data": {
      "text/plain": [
       "array([4, 5, 3, 2, 1], dtype=int64)"
      ]
     },
     "execution_count": 23,
     "metadata": {},
     "output_type": "execute_result"
    }
   ],
   "source": [
    "dados['17. How would you rate the service at Starbucks? (Promptness, friendliness, etc..)'].unique()"
   ]
  },
  {
   "cell_type": "code",
   "execution_count": 24,
   "id": "9483c1a6",
   "metadata": {},
   "outputs": [
    {
     "data": {
      "text/plain": [
       "array([3, 2, 4, 5, 1], dtype=int64)"
      ]
     },
     "execution_count": 24,
     "metadata": {},
     "output_type": "execute_result"
    }
   ],
   "source": [
    "dados['18. How likely you will choose Starbucks for doing business meetings or hangout with friends?'].unique()"
   ]
  },
  {
   "cell_type": "code",
   "execution_count": 25,
   "id": "d9ae7e6a",
   "metadata": {},
   "outputs": [
    {
     "data": {
      "text/plain": [
       "array(['Starbucks Website/Apps;Social Media;Emails;Deal sites (fave, iprice, etc...)',\n",
       "       'Social Media;In Store displays', 'In Store displays;Billboards',\n",
       "       'Through friends and word of mouth',\n",
       "       'Starbucks Website/Apps;Social Media', 'Social Media',\n",
       "       'Starbucks Website/Apps;Social Media;Emails;Through friends and word of mouth',\n",
       "       'Starbucks Website/Apps;Social Media;Through friends and word of mouth',\n",
       "       'Social Media;Through friends and word of mouth',\n",
       "       'Social Media;Through friends and word of mouth;In Store displays',\n",
       "       'Starbucks Website/Apps', 'Emails', 'Social Media;Emails',\n",
       "       'Through friends and word of mouth;In Store displays',\n",
       "       'Social Media;In Store displays;Billboards', 'Application offer',\n",
       "       'Starbucks Website/Apps;Social Media;Through friends and word of mouth;In Store displays',\n",
       "       'In Store displays',\n",
       "       'Social Media;Through friends and word of mouth;Billboards',\n",
       "       'Starbucks Website/Apps;Social Media;Emails;Billboards',\n",
       "       'Social Media;Emails;Deal sites (fave, iprice, etc...);Through friends and word of mouth;In Store displays;Billboards',\n",
       "       'Starbucks Website/Apps;Social Media;Deal sites (fave, iprice, etc...);Through friends and word of mouth',\n",
       "       'Never hear',\n",
       "       'Social Media;Through friends and word of mouth;In Store displays;Billboards',\n",
       "       'Starbucks Website/Apps;Deal sites (fave, iprice, etc...)',\n",
       "       'Social Media;Deal sites (fave, iprice, etc...);Through friends and word of mouth',\n",
       "       'Social Media;Emails;Through friends and word of mouth',\n",
       "       'Social Media;Deal sites (fave, iprice, etc...)', nan,\n",
       "       'Starbucks Website/Apps;Emails', 'Billboards',\n",
       "       'Starbucks Website/Apps;Social Media;Emails;Deal sites (fave, iprice, etc...);Through friends and word of mouth;In Store displays;Billboards'],\n",
       "      dtype=object)"
      ]
     },
     "execution_count": 25,
     "metadata": {},
     "output_type": "execute_result"
    }
   ],
   "source": [
    "dados['19. How do you come to hear of promotions at Starbucks? Check all that apply.'].unique()"
   ]
  },
  {
   "cell_type": "code",
   "execution_count": 26,
   "id": "9de9239f",
   "metadata": {},
   "outputs": [
    {
     "data": {
      "text/plain": [
       "Social Media                                                                                                                                   31\n",
       "Social Media;Through friends and word of mouth                                                                                                 14\n",
       "Through friends and word of mouth                                                                                                               9\n",
       "Starbucks Website/Apps;Social Media                                                                                                             9\n",
       "In Store displays                                                                                                                               7\n",
       "Starbucks Website/Apps                                                                                                                          6\n",
       "Starbucks Website/Apps;Social Media;Emails;Through friends and word of mouth                                                                    6\n",
       "Starbucks Website/Apps;Social Media;Through friends and word of mouth                                                                           6\n",
       "Social Media;Emails                                                                                                                             3\n",
       "Social Media;Through friends and word of mouth;In Store displays;Billboards                                                                     3\n",
       "Social Media;In Store displays                                                                                                                  3\n",
       "Social Media;Through friends and word of mouth;In Store displays                                                                                2\n",
       "Starbucks Website/Apps;Emails                                                                                                                   2\n",
       "Social Media;Through friends and word of mouth;Billboards                                                                                       2\n",
       "Emails                                                                                                                                          2\n",
       "Social Media;Deal sites (fave, iprice, etc...);Through friends and word of mouth                                                                1\n",
       "Social Media;Emails;Through friends and word of mouth                                                                                           1\n",
       "Starbucks Website/Apps;Social Media;Emails;Deal sites (fave, iprice, etc...)                                                                    1\n",
       "Social Media;Deal sites (fave, iprice, etc...)                                                                                                  1\n",
       "NaN                                                                                                                                             1\n",
       "Billboards                                                                                                                                      1\n",
       "Starbucks Website/Apps;Deal sites (fave, iprice, etc...)                                                                                        1\n",
       "Starbucks Website/Apps;Social Media;Through friends and word of mouth;In Store displays                                                         1\n",
       "Never hear                                                                                                                                      1\n",
       "Starbucks Website/Apps;Social Media;Deal sites (fave, iprice, etc...);Through friends and word of mouth                                         1\n",
       "Social Media;Emails;Deal sites (fave, iprice, etc...);Through friends and word of mouth;In Store displays;Billboards                            1\n",
       "Starbucks Website/Apps;Social Media;Emails;Billboards                                                                                           1\n",
       "Application offer                                                                                                                               1\n",
       "Social Media;In Store displays;Billboards                                                                                                       1\n",
       "Through friends and word of mouth;In Store displays                                                                                             1\n",
       "In Store displays;Billboards                                                                                                                    1\n",
       "Starbucks Website/Apps;Social Media;Emails;Deal sites (fave, iprice, etc...);Through friends and word of mouth;In Store displays;Billboards     1\n",
       "Name: 19. How do you come to hear of promotions at Starbucks? Check all that apply., dtype: int64"
      ]
     },
     "execution_count": 26,
     "metadata": {},
     "output_type": "execute_result"
    }
   ],
   "source": [
    "dados['19. How do you come to hear of promotions at Starbucks? Check all that apply.'].value_counts(dropna = False)"
   ]
  },
  {
   "cell_type": "code",
   "execution_count": 27,
   "id": "82f02f62",
   "metadata": {},
   "outputs": [
    {
     "data": {
      "text/plain": [
       "array(['Yes', 'No'], dtype=object)"
      ]
     },
     "execution_count": 27,
     "metadata": {},
     "output_type": "execute_result"
    }
   ],
   "source": [
    "dados['20. Will you continue buying at Starbucks?'].unique() # Target (Cliente fidelizado)"
   ]
  },
  {
   "cell_type": "code",
   "execution_count": 28,
   "id": "4c7edaf3",
   "metadata": {},
   "outputs": [],
   "source": [
    "# Removendo o registro com dados faltantes\n",
    "dados = dados.dropna()"
   ]
  },
  {
   "cell_type": "code",
   "execution_count": 29,
   "id": "5a9d0c51",
   "metadata": {},
   "outputs": [],
   "source": [
    "df = pd.DataFrame()\n",
    "df['Genero'] = dados['1. Your Gender'].replace({'Female':0, 'Male':1})"
   ]
  },
  {
   "cell_type": "code",
   "execution_count": 30,
   "id": "87f1cd34",
   "metadata": {},
   "outputs": [
    {
     "data": {
      "text/html": [
       "<div>\n",
       "<style scoped>\n",
       "    .dataframe tbody tr th:only-of-type {\n",
       "        vertical-align: middle;\n",
       "    }\n",
       "\n",
       "    .dataframe tbody tr th {\n",
       "        vertical-align: top;\n",
       "    }\n",
       "\n",
       "    .dataframe thead th {\n",
       "        text-align: right;\n",
       "    }\n",
       "</style>\n",
       "<table border=\"1\" class=\"dataframe\">\n",
       "  <thead>\n",
       "    <tr style=\"text-align: right;\">\n",
       "      <th></th>\n",
       "      <th>Genero</th>\n",
       "      <th>Faixa_etaria</th>\n",
       "      <th>Ocupacao_atual</th>\n",
       "      <th>Renda_anual</th>\n",
       "      <th>Frequencia_visita</th>\n",
       "      <th>Modalidade</th>\n",
       "      <th>Tempo_visita</th>\n",
       "      <th>Dist_loja</th>\n",
       "      <th>Cartao_membro</th>\n",
       "      <th>Gasto_p_visita</th>\n",
       "      <th>Av_produtos</th>\n",
       "      <th>Av_precos</th>\n",
       "      <th>Peso_promocao</th>\n",
       "      <th>Av_ambiente</th>\n",
       "      <th>Av_Wifi</th>\n",
       "      <th>Av_sevico</th>\n",
       "      <th>Prob_escolha</th>\n",
       "      <th>Fidelizacao</th>\n",
       "    </tr>\n",
       "  </thead>\n",
       "  <tbody>\n",
       "    <tr>\n",
       "      <th>0</th>\n",
       "      <td>0</td>\n",
       "      <td>1</td>\n",
       "      <td>0</td>\n",
       "      <td>0</td>\n",
       "      <td>3</td>\n",
       "      <td>0</td>\n",
       "      <td>1</td>\n",
       "      <td>0</td>\n",
       "      <td>1</td>\n",
       "      <td>1</td>\n",
       "      <td>4</td>\n",
       "      <td>3</td>\n",
       "      <td>5</td>\n",
       "      <td>5</td>\n",
       "      <td>4</td>\n",
       "      <td>4</td>\n",
       "      <td>3</td>\n",
       "      <td>1</td>\n",
       "    </tr>\n",
       "    <tr>\n",
       "      <th>1</th>\n",
       "      <td>0</td>\n",
       "      <td>1</td>\n",
       "      <td>0</td>\n",
       "      <td>0</td>\n",
       "      <td>3</td>\n",
       "      <td>1</td>\n",
       "      <td>0</td>\n",
       "      <td>1</td>\n",
       "      <td>1</td>\n",
       "      <td>1</td>\n",
       "      <td>4</td>\n",
       "      <td>3</td>\n",
       "      <td>4</td>\n",
       "      <td>4</td>\n",
       "      <td>4</td>\n",
       "      <td>5</td>\n",
       "      <td>2</td>\n",
       "      <td>1</td>\n",
       "    </tr>\n",
       "    <tr>\n",
       "      <th>2</th>\n",
       "      <td>1</td>\n",
       "      <td>1</td>\n",
       "      <td>1</td>\n",
       "      <td>0</td>\n",
       "      <td>2</td>\n",
       "      <td>0</td>\n",
       "      <td>1</td>\n",
       "      <td>2</td>\n",
       "      <td>1</td>\n",
       "      <td>1</td>\n",
       "      <td>4</td>\n",
       "      <td>3</td>\n",
       "      <td>4</td>\n",
       "      <td>4</td>\n",
       "      <td>4</td>\n",
       "      <td>4</td>\n",
       "      <td>3</td>\n",
       "      <td>1</td>\n",
       "    </tr>\n",
       "    <tr>\n",
       "      <th>3</th>\n",
       "      <td>0</td>\n",
       "      <td>1</td>\n",
       "      <td>0</td>\n",
       "      <td>0</td>\n",
       "      <td>3</td>\n",
       "      <td>1</td>\n",
       "      <td>0</td>\n",
       "      <td>2</td>\n",
       "      <td>0</td>\n",
       "      <td>1</td>\n",
       "      <td>2</td>\n",
       "      <td>1</td>\n",
       "      <td>4</td>\n",
       "      <td>3</td>\n",
       "      <td>3</td>\n",
       "      <td>3</td>\n",
       "      <td>3</td>\n",
       "      <td>0</td>\n",
       "    </tr>\n",
       "    <tr>\n",
       "      <th>4</th>\n",
       "      <td>1</td>\n",
       "      <td>1</td>\n",
       "      <td>0</td>\n",
       "      <td>0</td>\n",
       "      <td>2</td>\n",
       "      <td>1</td>\n",
       "      <td>1</td>\n",
       "      <td>1</td>\n",
       "      <td>0</td>\n",
       "      <td>2</td>\n",
       "      <td>3</td>\n",
       "      <td>3</td>\n",
       "      <td>4</td>\n",
       "      <td>2</td>\n",
       "      <td>2</td>\n",
       "      <td>3</td>\n",
       "      <td>3</td>\n",
       "      <td>1</td>\n",
       "    </tr>\n",
       "    <tr>\n",
       "      <th>...</th>\n",
       "      <td>...</td>\n",
       "      <td>...</td>\n",
       "      <td>...</td>\n",
       "      <td>...</td>\n",
       "      <td>...</td>\n",
       "      <td>...</td>\n",
       "      <td>...</td>\n",
       "      <td>...</td>\n",
       "      <td>...</td>\n",
       "      <td>...</td>\n",
       "      <td>...</td>\n",
       "      <td>...</td>\n",
       "      <td>...</td>\n",
       "      <td>...</td>\n",
       "      <td>...</td>\n",
       "      <td>...</td>\n",
       "      <td>...</td>\n",
       "      <td>...</td>\n",
       "    </tr>\n",
       "    <tr>\n",
       "      <th>117</th>\n",
       "      <td>1</td>\n",
       "      <td>3</td>\n",
       "      <td>2</td>\n",
       "      <td>1</td>\n",
       "      <td>2</td>\n",
       "      <td>0</td>\n",
       "      <td>2</td>\n",
       "      <td>1</td>\n",
       "      <td>1</td>\n",
       "      <td>2</td>\n",
       "      <td>3</td>\n",
       "      <td>3</td>\n",
       "      <td>5</td>\n",
       "      <td>3</td>\n",
       "      <td>2</td>\n",
       "      <td>4</td>\n",
       "      <td>4</td>\n",
       "      <td>1</td>\n",
       "    </tr>\n",
       "    <tr>\n",
       "      <th>118</th>\n",
       "      <td>1</td>\n",
       "      <td>1</td>\n",
       "      <td>1</td>\n",
       "      <td>0</td>\n",
       "      <td>2</td>\n",
       "      <td>0</td>\n",
       "      <td>2</td>\n",
       "      <td>1</td>\n",
       "      <td>1</td>\n",
       "      <td>3</td>\n",
       "      <td>5</td>\n",
       "      <td>5</td>\n",
       "      <td>5</td>\n",
       "      <td>5</td>\n",
       "      <td>5</td>\n",
       "      <td>5</td>\n",
       "      <td>5</td>\n",
       "      <td>1</td>\n",
       "    </tr>\n",
       "    <tr>\n",
       "      <th>119</th>\n",
       "      <td>1</td>\n",
       "      <td>1</td>\n",
       "      <td>0</td>\n",
       "      <td>0</td>\n",
       "      <td>3</td>\n",
       "      <td>0</td>\n",
       "      <td>1</td>\n",
       "      <td>1</td>\n",
       "      <td>0</td>\n",
       "      <td>1</td>\n",
       "      <td>3</td>\n",
       "      <td>2</td>\n",
       "      <td>4</td>\n",
       "      <td>3</td>\n",
       "      <td>3</td>\n",
       "      <td>3</td>\n",
       "      <td>4</td>\n",
       "      <td>0</td>\n",
       "    </tr>\n",
       "    <tr>\n",
       "      <th>120</th>\n",
       "      <td>0</td>\n",
       "      <td>1</td>\n",
       "      <td>1</td>\n",
       "      <td>0</td>\n",
       "      <td>3</td>\n",
       "      <td>1</td>\n",
       "      <td>0</td>\n",
       "      <td>0</td>\n",
       "      <td>0</td>\n",
       "      <td>1</td>\n",
       "      <td>4</td>\n",
       "      <td>4</td>\n",
       "      <td>4</td>\n",
       "      <td>4</td>\n",
       "      <td>4</td>\n",
       "      <td>4</td>\n",
       "      <td>4</td>\n",
       "      <td>1</td>\n",
       "    </tr>\n",
       "    <tr>\n",
       "      <th>121</th>\n",
       "      <td>1</td>\n",
       "      <td>1</td>\n",
       "      <td>1</td>\n",
       "      <td>2</td>\n",
       "      <td>3</td>\n",
       "      <td>0</td>\n",
       "      <td>1</td>\n",
       "      <td>1</td>\n",
       "      <td>0</td>\n",
       "      <td>1</td>\n",
       "      <td>1</td>\n",
       "      <td>1</td>\n",
       "      <td>5</td>\n",
       "      <td>4</td>\n",
       "      <td>3</td>\n",
       "      <td>3</td>\n",
       "      <td>2</td>\n",
       "      <td>0</td>\n",
       "    </tr>\n",
       "  </tbody>\n",
       "</table>\n",
       "<p>121 rows × 18 columns</p>\n",
       "</div>"
      ],
      "text/plain": [
       "     Genero  Faixa_etaria  Ocupacao_atual  Renda_anual  Frequencia_visita  \\\n",
       "0         0             1               0            0                  3   \n",
       "1         0             1               0            0                  3   \n",
       "2         1             1               1            0                  2   \n",
       "3         0             1               0            0                  3   \n",
       "4         1             1               0            0                  2   \n",
       "..      ...           ...             ...          ...                ...   \n",
       "117       1             3               2            1                  2   \n",
       "118       1             1               1            0                  2   \n",
       "119       1             1               0            0                  3   \n",
       "120       0             1               1            0                  3   \n",
       "121       1             1               1            2                  3   \n",
       "\n",
       "     Modalidade  Tempo_visita  Dist_loja  Cartao_membro  Gasto_p_visita  \\\n",
       "0             0             1          0              1               1   \n",
       "1             1             0          1              1               1   \n",
       "2             0             1          2              1               1   \n",
       "3             1             0          2              0               1   \n",
       "4             1             1          1              0               2   \n",
       "..          ...           ...        ...            ...             ...   \n",
       "117           0             2          1              1               2   \n",
       "118           0             2          1              1               3   \n",
       "119           0             1          1              0               1   \n",
       "120           1             0          0              0               1   \n",
       "121           0             1          1              0               1   \n",
       "\n",
       "     Av_produtos  Av_precos  Peso_promocao  Av_ambiente  Av_Wifi  Av_sevico  \\\n",
       "0              4          3              5            5        4          4   \n",
       "1              4          3              4            4        4          5   \n",
       "2              4          3              4            4        4          4   \n",
       "3              2          1              4            3        3          3   \n",
       "4              3          3              4            2        2          3   \n",
       "..           ...        ...            ...          ...      ...        ...   \n",
       "117            3          3              5            3        2          4   \n",
       "118            5          5              5            5        5          5   \n",
       "119            3          2              4            3        3          3   \n",
       "120            4          4              4            4        4          4   \n",
       "121            1          1              5            4        3          3   \n",
       "\n",
       "     Prob_escolha  Fidelizacao  \n",
       "0               3            1  \n",
       "1               2            1  \n",
       "2               3            1  \n",
       "3               3            0  \n",
       "4               3            1  \n",
       "..            ...          ...  \n",
       "117             4            1  \n",
       "118             5            1  \n",
       "119             4            0  \n",
       "120             4            1  \n",
       "121             2            0  \n",
       "\n",
       "[121 rows x 18 columns]"
      ]
     },
     "execution_count": 30,
     "metadata": {},
     "output_type": "execute_result"
    }
   ],
   "source": [
    "df['Faixa_etaria'] = dados['2. Your Age'].replace({'From 20 to 29':1,\n",
    "                                                   'From 30 to 39':2,\n",
    "                                                   '40 and above':3,\n",
    "                                                   'Below 20':0})\n",
    "\n",
    "df['Ocupacao_atual'] = dados['3. Are you currently....?'].replace({'Student':0,\n",
    "                                                                   'Employed':1,\n",
    "                                                                   'Self-employed':2, \n",
    "                                                                   'Housewife':3})\n",
    "\n",
    "df['Renda_anual'] = dados['4. What is your annual income?'].replace({'Less than RM25,000':0,\n",
    "                                                                     'RM50,000 - RM100,000':2,\n",
    "                                                                     'RM25,000 - RM50,000':1, \n",
    "                                                                     'RM100,000 - RM150,000':3,\n",
    "                                                                     'More than RM150,000':4})\n",
    "\n",
    "df['Frequencia_visita'] = dados['5. How often do you visit Starbucks?'].replace({'Rarely':3, 'Monthly':2,\n",
    "                                                                                 'Weekly':1, 'Never':4, 'Daily':0})\n",
    "\n",
    "df['Modalidade'] = dados['6. How do you usually enjoy Starbucks?'].replace({'Dine in':0, 'Take away':1, 'Drive-thru':2, 'never':3, 'Never buy':3,\n",
    "                                                                            'I dont like coffee':3, 'Never':3, 'Never ':3})\n",
    "\n",
    "df['Tempo_visita'] = dados['7. How much time do you normally  spend during your visit?'].replace({'Between 30 minutes to 1 hour':1, \n",
    "                                                                                      'Below 30 minutes':0,\n",
    "                                                                                      'More than 3 hours':4, \n",
    "                                                                                      'Between 1 hour to 2 hours':2,\n",
    "                                                                                      'Between 2 hours to 3 hours':3})\n",
    "\n",
    "df['Dist_loja'] = dados['8. The nearest Starbucks\\'s outlet to you is...?'].replace({'within 1km':0,\n",
    "                                                                                     '1km - 3km':1, \n",
    "                                                                                     'more than 3km':2})\n",
    "\n",
    "df['Cartao_membro'] = dados['9. Do you have Starbucks membership card?'].replace({'Yes':1, 'No':0})\n",
    "\n",
    "df['Gasto_p_visita'] = dados['11. On average, how much would you spend at Starbucks per visit?'].replace({'Less than RM20':1, \n",
    "                                                                                                          'Around RM20 - RM40':2,\n",
    "                                                                                                          'More than RM40':3, \n",
    "                                                                                                          'Zero':0})\n",
    "\n",
    "df['Av_produtos'] = dados['12. How would you rate the quality of Starbucks compared to other brands (Coffee Bean, Old Town White Coffee..) to be:']\n",
    "    \n",
    "df['Av_precos'] = dados['13. How would you rate the price range at Starbucks?']\n",
    "\n",
    "df['Peso_promocao'] = dados['14. How important are sales and promotions in your purchase decision?']\n",
    "\n",
    "df['Av_ambiente'] = dados['15. How would you rate the ambiance at Starbucks? (lighting, music, etc...)']\n",
    "\n",
    "df['Av_Wifi'] = dados['16. You rate the WiFi quality at Starbucks as..']\n",
    "\n",
    "df['Av_sevico'] = dados['17. How would you rate the service at Starbucks? (Promptness, friendliness, etc..)']\n",
    "\n",
    "df['Prob_escolha'] = dados['18. How likely you will choose Starbucks for doing business meetings or hangout with friends?']\n",
    "\n",
    "df['Fidelizacao'] = dados['20. Will you continue buying at Starbucks?'].replace({'Yes':1, 'No':0})\n",
    "\n",
    "df\n"
   ]
  }
 ],
 "metadata": {
  "kernelspec": {
   "display_name": "Python 3 (ipykernel)",
   "language": "python",
   "name": "python3"
  },
  "language_info": {
   "codemirror_mode": {
    "name": "ipython",
    "version": 3
   },
   "file_extension": ".py",
   "mimetype": "text/x-python",
   "name": "python",
   "nbconvert_exporter": "python",
   "pygments_lexer": "ipython3",
   "version": "3.9.7"
  }
 },
 "nbformat": 4,
 "nbformat_minor": 5
}
